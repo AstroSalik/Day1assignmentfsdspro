{
 "cells": [
  {
   "cell_type": "markdown",
   "id": "f56ffcc5-38ec-42d2-b90f-e3969a7c777e",
   "metadata": {},
   "source": [
    "Swapping Variables:"
   ]
  },
  {
   "cell_type": "code",
   "execution_count": 4,
   "id": "dfdcd05c-7c32-4784-a02b-0fa8c11bbca9",
   "metadata": {},
   "outputs": [],
   "source": [
    "M = 10\n",
    "S = 100\n",
    "M, S = S, M"
   ]
  },
  {
   "cell_type": "code",
   "execution_count": 5,
   "id": "517aa612-3c50-4fe6-8271-dbce79273ad7",
   "metadata": {},
   "outputs": [
    {
     "data": {
      "text/plain": [
       "100"
      ]
     },
     "execution_count": 5,
     "metadata": {},
     "output_type": "execute_result"
    }
   ],
   "source": [
    "M"
   ]
  },
  {
   "cell_type": "code",
   "execution_count": 6,
   "id": "c65734a7-de07-428e-8235-484cbfc19c2b",
   "metadata": {},
   "outputs": [
    {
     "data": {
      "text/plain": [
       "10"
      ]
     },
     "execution_count": 6,
     "metadata": {},
     "output_type": "execute_result"
    }
   ],
   "source": [
    "S"
   ]
  },
  {
   "cell_type": "markdown",
   "id": "e9e9b20c-b706-4bf9-967b-c048b4dd1e3f",
   "metadata": {},
   "source": [
    "First, I assigned the value of M as 10 and after that i assigned the value of S as 100. After that, i swapped both the values by assgining the value of M to S and the value of S to M. After executing, I got the swapped outcomes."
   ]
  },
  {
   "cell_type": "markdown",
   "id": "42fcb899-35fc-49cf-a21e-96e361548435",
   "metadata": {},
   "source": [
    "Area of Rectangle"
   ]
  },
  {
   "cell_type": "code",
   "execution_count": 9,
   "id": "904f6108-3c71-4825-af95-e240718f903d",
   "metadata": {},
   "outputs": [
    {
     "name": "stdin",
     "output_type": "stream",
     "text": [
      "enter breadth:  20\n",
      "enter length:  15\n"
     ]
    },
    {
     "name": "stdout",
     "output_type": "stream",
     "text": [
      "The area of the given rectangle is  300\n"
     ]
    }
   ],
   "source": [
    "b = int(input(\"enter breadth: \"))\n",
    "l = int(input(\"enter length: \"))\n",
    "area = b*l\n",
    "print(\"The area of the given rectangle is \", area)"
   ]
  },
  {
   "cell_type": "markdown",
   "id": "ed81370c-f355-40f5-afe2-3a3467d9a580",
   "metadata": {},
   "source": [
    "b takes input from the user and while asking for input, it displays the text, \"enter breadth: \" so that it gets easier for the user to enter it. Next, l does the same. After taking the inputs, another variabel, \"area\" calculates the area of the rectangle and the print function displays the calculated area with some extra text. I use print function cause i am much familiar with this type of programming rather than the direct approach."
   ]
  },
  {
   "cell_type": "markdown",
   "id": "15bc382c-de8c-40c5-b8d6-cf90da036eb6",
   "metadata": {},
   "source": [
    "Temperature Converter:"
   ]
  },
  {
   "cell_type": "code",
   "execution_count": 13,
   "id": "33a63019-876c-43d7-9b93-8244bd9deb55",
   "metadata": {},
   "outputs": [
    {
     "name": "stdout",
     "output_type": "stream",
     "text": [
      "Enter the temperature in degree celsius\n"
     ]
    },
    {
     "name": "stdin",
     "output_type": "stream",
     "text": [
      ":  17\n"
     ]
    },
    {
     "name": "stdout",
     "output_type": "stream",
     "text": [
      "62.6 farenheits\n"
     ]
    }
   ],
   "source": [
    "print(\"Enter the temperature in degree celsius\")\n",
    "c = float(input(\": \"))\n",
    "Tf = (c*1.8) + 32\n",
    "print(Tf, \"farenheits\")"
   ]
  },
  {
   "cell_type": "markdown",
   "id": "9dff595d-b4c4-467a-aa1f-19cfd034c3ec",
   "metadata": {},
   "source": [
    "In this program, i have separately executed each funtion. First the print function, after then an input function, and in input function, i used float data type for making it compatible. then in the second variable, i canculated and converted celcius into farenheit and after that, i displayed the calculation using the print function."
   ]
  },
  {
   "cell_type": "markdown",
   "id": "8773c2c6-0108-4d3d-86b8-ee780c9b0ab2",
   "metadata": {},
   "source": [
    "Length of the string"
   ]
  },
  {
   "cell_type": "code",
   "execution_count": 10,
   "id": "900dd19f-ad0b-4c17-88b9-e044d6884d83",
   "metadata": {},
   "outputs": [
    {
     "name": "stdin",
     "output_type": "stream",
     "text": [
      "Enter your text:  Hopre you are doing great.\n"
     ]
    },
    {
     "name": "stdout",
     "output_type": "stream",
     "text": [
      "your text is  26  characters long\n"
     ]
    }
   ],
   "source": [
    "s = input(\"Enter your text: \")\n",
    "print(\"your text is \", len(s), \" characters long\")"
   ]
  },
  {
   "cell_type": "markdown",
   "id": "fb120d78-47c5-4e1f-bf9b-cfa676c08ecb",
   "metadata": {},
   "source": [
    "In this program, I simply took input from the user and calculated the length of the text by the function, \"len\" and displayed the output by print function with some extra text."
   ]
  },
  {
   "cell_type": "markdown",
   "id": "3bc0fe8b-61d4-456e-b88a-1659b8d68bf6",
   "metadata": {},
   "source": [
    "Vowel count:"
   ]
  },
  {
   "cell_type": "code",
   "execution_count": 19,
   "id": "51b897db-9f36-4897-adbb-efca0edd6c8a",
   "metadata": {},
   "outputs": [
    {
     "name": "stdin",
     "output_type": "stream",
     "text": [
      "enter your text:  salam, hope you doing great\n"
     ]
    },
    {
     "name": "stdout",
     "output_type": "stream",
     "text": [
      "10 is the number of total vovwels in your given text. Thanks.\n"
     ]
    }
   ],
   "source": [
    "a = input(\"enter your text: \")\n",
    "count_a = a.count(\"a\")\n",
    "count_e = a.count(\"e\")\n",
    "count_i = a.count(\"i\")\n",
    "count_o = a.count(\"o\")\n",
    "count_u = a.count(\"u\")\n",
    "total = count_a + count_e + count_i + count_o + count_u\n",
    "print(total, \"is the number of total vovwels in your given text. Thanks.\")"
   ]
  },
  {
   "cell_type": "markdown",
   "id": "ce73f3f5-991c-4a1f-ab87-5cb7ae05769d",
   "metadata": {},
   "source": [
    "'a' takes the text and then, a.count counts each vowel indivisually. At last, I add up each count and display the total count with some extra text."
   ]
  },
  {
   "cell_type": "markdown",
   "id": "0b029063-8c3d-45ac-847e-7ed9633f8cf7",
   "metadata": {},
   "source": [
    "Reverse slcing"
   ]
  },
  {
   "cell_type": "code",
   "execution_count": 3,
   "id": "ea90d19b-1151-4c52-af0f-25f75e14f693",
   "metadata": {},
   "outputs": [
    {
     "name": "stdin",
     "output_type": "stream",
     "text": [
      "Enter your text:  munafsalik\n"
     ]
    },
    {
     "name": "stdout",
     "output_type": "stream",
     "text": [
      "kilasfanum\n"
     ]
    }
   ],
   "source": [
    "m = input(\"Enter your text: \")\n",
    "print(m[::-1])"
   ]
  },
  {
   "cell_type": "markdown",
   "id": "4f657300-9c3b-4ed9-b298-7e3b79276f2c",
   "metadata": {},
   "source": [
    "Here, we take from the user and reverse it by giving the negative 1 jump parameter to the given string."
   ]
  },
  {
   "cell_type": "markdown",
   "id": "1c2cbf86-173f-4a56-84e5-19c30108e374",
   "metadata": {},
   "source": [
    "Palindrome Check:"
   ]
  },
  {
   "cell_type": "code",
   "execution_count": 5,
   "id": "703a8a63-ea6a-4a7c-bbe2-acdde5767a56",
   "metadata": {},
   "outputs": [
    {
     "name": "stdin",
     "output_type": "stream",
     "text": [
      "Enter text : ma'am\n"
     ]
    },
    {
     "name": "stdout",
     "output_type": "stream",
     "text": [
      "the given text is a palindrome!\n"
     ]
    }
   ],
   "source": [
    "k = input(\"Enter text :\")\n",
    "if k[::] == k[::-1]:\n",
    "    print(\"the given text is a palindrome!\")\n",
    "else:\n",
    "    print(\"the given text isn't a plandrome.\")   "
   ]
  },
  {
   "cell_type": "markdown",
   "id": "b1c93661-6b2b-493b-a0f1-d2006d736d4b",
   "metadata": {},
   "source": [
    "Here, we take input and after that, we check if the forward slcing is the same as the backward slicing, i.e., if the text is same as in forward direction as it is in backward direction. If found same, we print affirmation."
   ]
  },
  {
   "cell_type": "markdown",
   "id": "c3cffaaf-eb10-440c-be87-63f62d385abc",
   "metadata": {},
   "source": [
    "Spaces remover:"
   ]
  },
  {
   "cell_type": "code",
   "execution_count": 8,
   "id": "7159b3f4-6aaf-43db-9414-53989d5af848",
   "metadata": {},
   "outputs": [
    {
     "name": "stdin",
     "output_type": "stream",
     "text": [
      "Enter your text:  Astro Salik Riyaz\n"
     ]
    },
    {
     "name": "stdout",
     "output_type": "stream",
     "text": [
      "AstroSalikRiyaz\n"
     ]
    }
   ],
   "source": [
    "ms = input(\"Enter your text: \")\n",
    "fe = ms.replace(\" \", \"\")\n",
    "print(fe)"
   ]
  },
  {
   "cell_type": "markdown",
   "id": "17eec9c2-f474-466a-9bf7-cdd95dcb7935",
   "metadata": {},
   "source": [
    "Here, after taking an inpout from a user, we replace every space with nothing, that means we indirectly remove the spaces by replacing them with nothing."
   ]
  },
  {
   "cell_type": "markdown",
   "id": "85a619be-e116-4123-8622-fe2fb6615208",
   "metadata": {},
   "source": [
    "Thanks!"
   ]
  },
  {
   "cell_type": "code",
   "execution_count": null,
   "id": "b3b281b6-2a3f-4d12-b057-fa175abf40a2",
   "metadata": {},
   "outputs": [],
   "source": []
  }
 ],
 "metadata": {
  "kernelspec": {
   "display_name": "Python 3 (ipykernel)",
   "language": "python",
   "name": "python3"
  },
  "language_info": {
   "codemirror_mode": {
    "name": "ipython",
    "version": 3
   },
   "file_extension": ".py",
   "mimetype": "text/x-python",
   "name": "python",
   "nbconvert_exporter": "python",
   "pygments_lexer": "ipython3",
   "version": "3.10.8"
  }
 },
 "nbformat": 4,
 "nbformat_minor": 5
}
